{
  "cells": [
    {
      "cell_type": "markdown",
      "metadata": {
        "id": "view-in-github",
        "colab_type": "text"
      },
      "source": [
        "<a href=\"https://colab.research.google.com/github/NancyBudgujjar/brain_tumor/blob/main/LSTM_wheat_disease.ipynb\" target=\"_parent\"><img src=\"https://colab.research.google.com/assets/colab-badge.svg\" alt=\"Open In Colab\"/></a>"
      ]
    },
    {
      "cell_type": "code",
      "execution_count": 1,
      "metadata": {
        "colab": {
          "base_uri": "https://localhost:8080/"
        },
        "id": "d1GgOQfRyPRu",
        "outputId": "45649166-bb28-4163-bb9c-4ad4f6cc1de3"
      },
      "outputs": [
        {
          "output_type": "stream",
          "name": "stdout",
          "text": [
            "Requirement already satisfied: tensorflow in /usr/local/lib/python3.10/dist-packages (2.15.0.post1)\n",
            "Requirement already satisfied: absl-py>=1.0.0 in /usr/local/lib/python3.10/dist-packages (from tensorflow) (1.4.0)\n",
            "Requirement already satisfied: astunparse>=1.6.0 in /usr/local/lib/python3.10/dist-packages (from tensorflow) (1.6.3)\n",
            "Requirement already satisfied: flatbuffers>=23.5.26 in /usr/local/lib/python3.10/dist-packages (from tensorflow) (23.5.26)\n",
            "Requirement already satisfied: gast!=0.5.0,!=0.5.1,!=0.5.2,>=0.2.1 in /usr/local/lib/python3.10/dist-packages (from tensorflow) (0.5.4)\n",
            "Requirement already satisfied: google-pasta>=0.1.1 in /usr/local/lib/python3.10/dist-packages (from tensorflow) (0.2.0)\n",
            "Requirement already satisfied: h5py>=2.9.0 in /usr/local/lib/python3.10/dist-packages (from tensorflow) (3.9.0)\n",
            "Requirement already satisfied: libclang>=13.0.0 in /usr/local/lib/python3.10/dist-packages (from tensorflow) (16.0.6)\n",
            "Requirement already satisfied: ml-dtypes~=0.2.0 in /usr/local/lib/python3.10/dist-packages (from tensorflow) (0.2.0)\n",
            "Requirement already satisfied: numpy<2.0.0,>=1.23.5 in /usr/local/lib/python3.10/dist-packages (from tensorflow) (1.25.2)\n",
            "Requirement already satisfied: opt-einsum>=2.3.2 in /usr/local/lib/python3.10/dist-packages (from tensorflow) (3.3.0)\n",
            "Requirement already satisfied: packaging in /usr/local/lib/python3.10/dist-packages (from tensorflow) (23.2)\n",
            "Requirement already satisfied: protobuf!=4.21.0,!=4.21.1,!=4.21.2,!=4.21.3,!=4.21.4,!=4.21.5,<5.0.0dev,>=3.20.3 in /usr/local/lib/python3.10/dist-packages (from tensorflow) (3.20.3)\n",
            "Requirement already satisfied: setuptools in /usr/local/lib/python3.10/dist-packages (from tensorflow) (67.7.2)\n",
            "Requirement already satisfied: six>=1.12.0 in /usr/local/lib/python3.10/dist-packages (from tensorflow) (1.16.0)\n",
            "Requirement already satisfied: termcolor>=1.1.0 in /usr/local/lib/python3.10/dist-packages (from tensorflow) (2.4.0)\n",
            "Requirement already satisfied: typing-extensions>=3.6.6 in /usr/local/lib/python3.10/dist-packages (from tensorflow) (4.9.0)\n",
            "Requirement already satisfied: wrapt<1.15,>=1.11.0 in /usr/local/lib/python3.10/dist-packages (from tensorflow) (1.14.1)\n",
            "Requirement already satisfied: tensorflow-io-gcs-filesystem>=0.23.1 in /usr/local/lib/python3.10/dist-packages (from tensorflow) (0.36.0)\n",
            "Requirement already satisfied: grpcio<2.0,>=1.24.3 in /usr/local/lib/python3.10/dist-packages (from tensorflow) (1.60.1)\n",
            "Requirement already satisfied: tensorboard<2.16,>=2.15 in /usr/local/lib/python3.10/dist-packages (from tensorflow) (2.15.2)\n",
            "Requirement already satisfied: tensorflow-estimator<2.16,>=2.15.0 in /usr/local/lib/python3.10/dist-packages (from tensorflow) (2.15.0)\n",
            "Requirement already satisfied: keras<2.16,>=2.15.0 in /usr/local/lib/python3.10/dist-packages (from tensorflow) (2.15.0)\n",
            "Requirement already satisfied: wheel<1.0,>=0.23.0 in /usr/local/lib/python3.10/dist-packages (from astunparse>=1.6.0->tensorflow) (0.42.0)\n",
            "Requirement already satisfied: google-auth<3,>=1.6.3 in /usr/local/lib/python3.10/dist-packages (from tensorboard<2.16,>=2.15->tensorflow) (2.27.0)\n",
            "Requirement already satisfied: google-auth-oauthlib<2,>=0.5 in /usr/local/lib/python3.10/dist-packages (from tensorboard<2.16,>=2.15->tensorflow) (1.2.0)\n",
            "Requirement already satisfied: markdown>=2.6.8 in /usr/local/lib/python3.10/dist-packages (from tensorboard<2.16,>=2.15->tensorflow) (3.5.2)\n",
            "Requirement already satisfied: requests<3,>=2.21.0 in /usr/local/lib/python3.10/dist-packages (from tensorboard<2.16,>=2.15->tensorflow) (2.31.0)\n",
            "Requirement already satisfied: tensorboard-data-server<0.8.0,>=0.7.0 in /usr/local/lib/python3.10/dist-packages (from tensorboard<2.16,>=2.15->tensorflow) (0.7.2)\n",
            "Requirement already satisfied: werkzeug>=1.0.1 in /usr/local/lib/python3.10/dist-packages (from tensorboard<2.16,>=2.15->tensorflow) (3.0.1)\n",
            "Requirement already satisfied: cachetools<6.0,>=2.0.0 in /usr/local/lib/python3.10/dist-packages (from google-auth<3,>=1.6.3->tensorboard<2.16,>=2.15->tensorflow) (5.3.2)\n",
            "Requirement already satisfied: pyasn1-modules>=0.2.1 in /usr/local/lib/python3.10/dist-packages (from google-auth<3,>=1.6.3->tensorboard<2.16,>=2.15->tensorflow) (0.3.0)\n",
            "Requirement already satisfied: rsa<5,>=3.1.4 in /usr/local/lib/python3.10/dist-packages (from google-auth<3,>=1.6.3->tensorboard<2.16,>=2.15->tensorflow) (4.9)\n",
            "Requirement already satisfied: requests-oauthlib>=0.7.0 in /usr/local/lib/python3.10/dist-packages (from google-auth-oauthlib<2,>=0.5->tensorboard<2.16,>=2.15->tensorflow) (1.3.1)\n",
            "Requirement already satisfied: charset-normalizer<4,>=2 in /usr/local/lib/python3.10/dist-packages (from requests<3,>=2.21.0->tensorboard<2.16,>=2.15->tensorflow) (3.3.2)\n",
            "Requirement already satisfied: idna<4,>=2.5 in /usr/local/lib/python3.10/dist-packages (from requests<3,>=2.21.0->tensorboard<2.16,>=2.15->tensorflow) (3.6)\n",
            "Requirement already satisfied: urllib3<3,>=1.21.1 in /usr/local/lib/python3.10/dist-packages (from requests<3,>=2.21.0->tensorboard<2.16,>=2.15->tensorflow) (2.0.7)\n",
            "Requirement already satisfied: certifi>=2017.4.17 in /usr/local/lib/python3.10/dist-packages (from requests<3,>=2.21.0->tensorboard<2.16,>=2.15->tensorflow) (2024.2.2)\n",
            "Requirement already satisfied: MarkupSafe>=2.1.1 in /usr/local/lib/python3.10/dist-packages (from werkzeug>=1.0.1->tensorboard<2.16,>=2.15->tensorflow) (2.1.5)\n",
            "Requirement already satisfied: pyasn1<0.6.0,>=0.4.6 in /usr/local/lib/python3.10/dist-packages (from pyasn1-modules>=0.2.1->google-auth<3,>=1.6.3->tensorboard<2.16,>=2.15->tensorflow) (0.5.1)\n",
            "Requirement already satisfied: oauthlib>=3.0.0 in /usr/local/lib/python3.10/dist-packages (from requests-oauthlib>=0.7.0->google-auth-oauthlib<2,>=0.5->tensorboard<2.16,>=2.15->tensorflow) (3.2.2)\n"
          ]
        }
      ],
      "source": [
        "!pip install tensorflow -U"
      ]
    },
    {
      "cell_type": "code",
      "execution_count": 2,
      "metadata": {
        "id": "qJWA-h23yPRw"
      },
      "outputs": [],
      "source": [
        "import matplotlib.pyplot as plt\n",
        "import numpy as np\n",
        "import pandas as pd\n",
        "import seaborn as sns\n",
        "import cv2\n",
        "import tensorflow as tf\n",
        "from tensorflow.keras.preprocessing.image import ImageDataGenerator\n",
        "from tqdm import tqdm\n",
        "import os\n",
        "from sklearn.utils import shuffle\n",
        "from sklearn.model_selection import train_test_split\n",
        "from tensorflow.keras.applications.efficientnet import EfficientNetB1\n",
        "from tensorflow.keras.applications.vgg16 import VGG16\n",
        "from tensorflow.keras.applications.resnet50 import ResNet50, preprocess_input\n",
        "from tensorflow.keras.callbacks import EarlyStopping, ReduceLROnPlateau, TensorBoard, ModelCheckpoint\n",
        "from sklearn.metrics import classification_report,confusion_matrix\n",
        "import ipywidgets as widgets\n",
        "import io\n",
        "from PIL import Image\n",
        "from IPython.display import display,clear_output\n",
        "from warnings import filterwarnings\n",
        "import pickle"
      ]
    },
    {
      "cell_type": "code",
      "execution_count": 3,
      "metadata": {
        "id": "c-2M7SNuyPRw"
      },
      "outputs": [],
      "source": [
        "colors_dark = [\"#1F1F1F\", \"#313131\", '#636363', '#AEAEAE', '#DADADA']\n",
        "colors_red = [\"#331313\", \"#582626\", '#9E1717', '#D35151', '#E9B4B4']\n",
        "colors_green = ['#01411C','#4B6F44','#4F7942','#74C365','#D0F0C0']"
      ]
    },
    {
      "cell_type": "code",
      "execution_count": 4,
      "metadata": {
        "id": "Hp_YLjOzyPRx"
      },
      "outputs": [],
      "source": [
        "rot = tf.keras.layers.RandomRotation(factor=0.2)\n",
        "flip = tf.keras.layers.RandomFlip(mode=\"horizontal_and_vertical\")\n",
        "\n",
        "def augment(images):\n",
        "    for i in range(len(images)):\n",
        "        flipped = flip(images[i])\n",
        "        images[i] = rot(flipped)\n",
        "\n",
        "    return images"
      ]
    },
    {
      "cell_type": "code",
      "execution_count": 5,
      "metadata": {
        "id": "96okB20S0QpB",
        "colab": {
          "base_uri": "https://localhost:8080/"
        },
        "outputId": "66ffccbe-950a-4b05-c1e7-38c9624a3ee5"
      },
      "outputs": [
        {
          "output_type": "stream",
          "name": "stdout",
          "text": [
            "Drive already mounted at /content/drive; to attempt to forcibly remount, call drive.mount(\"/content/drive\", force_remount=True).\n"
          ]
        }
      ],
      "source": [
        "from google.colab import drive\n",
        "drive.mount('/content/drive')"
      ]
    },
    {
      "cell_type": "code",
      "execution_count": 6,
      "metadata": {
        "id": "WgO3thNj0vWq"
      },
      "outputs": [],
      "source": [
        "#import os\n",
        "#os.chdir('/content/drive/MyDrive/projects/Brain_tumor')\n",
        "#db=\"/content/drive/MyDrive/projects/Brain_tumor\""
      ]
    },
    {
      "cell_type": "code",
      "execution_count": 7,
      "metadata": {
        "id": "GuPx8ilS1NOo",
        "colab": {
          "base_uri": "https://localhost:8080/"
        },
        "outputId": "d835942e-373f-4cf7-aab5-0c59f31775d4"
      },
      "outputs": [
        {
          "output_type": "stream",
          "name": "stderr",
          "text": [
            "100%|██████████| 902/902 [00:32<00:00, 27.48it/s] \n",
            "100%|██████████| 1116/1116 [00:36<00:00, 30.20it/s]\n",
            "100%|██████████| 924/924 [00:14<00:00, 62.34it/s] \n"
          ]
        }
      ],
      "source": [
        "#labels = ['glioma_tumor','no_tumor','meningioma_tumor','pituitary_tumor']\n",
        "labels = ['Brown_rust','Healthy','Yellow_rust']\n",
        "X_train = []\n",
        "y_train = []\n",
        "image_size = 150\n",
        "for i in labels:\n",
        "    folderPath = os.path.join('/content/drive/MyDrive/project/Wheat_disease_detection/data','train',i)\n",
        "    for j in tqdm(os.listdir(folderPath)):\n",
        "        img = cv2.imread(os.path.join(folderPath,j))\n",
        "        img = cv2.resize(img,(image_size, image_size))\n",
        "        #img = np.expand_dims(img, axis=0)\n",
        "        img = preprocess_input(img)\n",
        "        X_train.append(img)\n",
        "        y_train.append(i)"
      ]
    },
    {
      "cell_type": "code",
      "execution_count": 8,
      "metadata": {
        "id": "Qvp47npMHtEQ",
        "colab": {
          "base_uri": "https://localhost:8080/"
        },
        "outputId": "6df0726d-fe87-426d-ad1f-2f294f50cbf6"
      },
      "outputs": [
        {
          "output_type": "stream",
          "name": "stderr",
          "text": [
            "100%|██████████| 226/226 [00:03<00:00, 69.43it/s] \n",
            "100%|██████████| 279/279 [00:07<00:00, 34.93it/s]\n",
            "100%|██████████| 232/232 [00:02<00:00, 79.20it/s]\n"
          ]
        }
      ],
      "source": [
        "\n",
        "for i in labels:\n",
        "    folderPath = os.path.join('/content/drive/MyDrive/project/Wheat_disease_detection/data','val',i)\n",
        "    for j in tqdm(os.listdir(folderPath)):\n",
        "        img = cv2.imread(os.path.join(folderPath,j))\n",
        "        img = cv2.resize(img,(image_size, image_size))\n",
        "        #img = np.expand_dims(img, axis=0)\n",
        "        img = preprocess_input(img)\n",
        "        X_train.append(img)\n",
        "        y_train.append(i)"
      ]
    },
    {
      "cell_type": "code",
      "source": [
        "'''\n",
        "from sklearn import preprocessing\n",
        "\n",
        "x_train_norm = preprocessing.normalize(X_train.reshape(-1, 32*32*3))\n",
        "y_train_norm = preprocessing.normalize(y_train.reshape(-1, 32*32*3))   '''"
      ],
      "metadata": {
        "colab": {
          "base_uri": "https://localhost:8080/",
          "height": 53
        },
        "id": "2mwQCxNU1HTT",
        "outputId": "36228990-2ac9-4cd2-98c2-5fc9283177d8"
      },
      "execution_count": 9,
      "outputs": [
        {
          "output_type": "execute_result",
          "data": {
            "text/plain": [
              "'\\nfrom sklearn import preprocessing\\n\\nx_train_norm = preprocessing.normalize(X_train.reshape(-1, 32*32*3))\\ny_train_norm = preprocessing.normalize(y_train.reshape(-1, 32*32*3))   '"
            ],
            "application/vnd.google.colaboratory.intrinsic+json": {
              "type": "string"
            }
          },
          "metadata": {},
          "execution_count": 9
        }
      ]
    },
    {
      "cell_type": "code",
      "source": [
        "X_train = np.array(X_train)\n",
        "y_train = np.array(y_train)"
      ],
      "metadata": {
        "id": "vqrCqKKa1E6c"
      },
      "execution_count": 10,
      "outputs": []
    },
    {
      "cell_type": "code",
      "source": [
        "X_train.shape, y_train.shape"
      ],
      "metadata": {
        "colab": {
          "base_uri": "https://localhost:8080/"
        },
        "id": "mEECRnP2-Z1q",
        "outputId": "46bf9368-5db2-4b61-e96b-89e09f0f35a9"
      },
      "execution_count": 11,
      "outputs": [
        {
          "output_type": "execute_result",
          "data": {
            "text/plain": [
              "((3679, 150, 150, 3), (3679,))"
            ]
          },
          "metadata": {},
          "execution_count": 11
        }
      ]
    },
    {
      "cell_type": "code",
      "execution_count": 12,
      "metadata": {
        "id": "X05l1_fIyPRy"
      },
      "outputs": [],
      "source": [
        "y_train_new = []\n",
        "for i in y_train:\n",
        "    y_train_new.append(labels.index(i))\n",
        "y_train = y_train_new\n",
        "y_train = tf.keras.utils.to_categorical(y_train)"
      ]
    },
    {
      "cell_type": "code",
      "execution_count": 13,
      "metadata": {
        "id": "ndxWTJKJyPRy"
      },
      "outputs": [],
      "source": [
        "#X_train = np.vstack(X_train)\n",
        "X_train = np.vstack((X_train, augment(X_train)))"
      ]
    },
    {
      "cell_type": "code",
      "execution_count": 14,
      "metadata": {
        "id": "uAzCJ8zdHu8P"
      },
      "outputs": [],
      "source": [
        "y_train = np.vstack((y_train, y_train.copy()))"
      ]
    },
    {
      "cell_type": "code",
      "execution_count": 13,
      "metadata": {
        "id": "g8rZ_TkmyPRy",
        "colab": {
          "base_uri": "https://localhost:8080/"
        },
        "outputId": "bef06c3b-9726-4036-e0ee-9406cdb9092e"
      },
      "outputs": [
        {
          "output_type": "execute_result",
          "data": {
            "text/plain": [
              "((3679, 150, 150, 3), (3679, 3))"
            ]
          },
          "metadata": {},
          "execution_count": 13
        }
      ],
      "source": [
        "X_train.shape, y_train.shape"
      ]
    },
    {
      "cell_type": "code",
      "execution_count": 14,
      "metadata": {
        "id": "VBbIIfEJyPRz"
      },
      "outputs": [],
      "source": [
        "X_train, y_train = shuffle(X_train, y_train, random_state=101)"
      ]
    },
    {
      "cell_type": "code",
      "execution_count": 15,
      "metadata": {
        "id": "YgZF4mBMyPRz"
      },
      "outputs": [],
      "source": [
        "X_train,X_test,y_train,y_test = train_test_split(X_train, y_train, test_size=0.2, random_state=42)"
      ]
    },
    {
      "cell_type": "code",
      "execution_count": 16,
      "metadata": {
        "id": "MnclTA1cyPR0",
        "colab": {
          "base_uri": "https://localhost:8080/"
        },
        "outputId": "a5255702-a249-4ee8-e866-436efbc03d3d"
      },
      "outputs": [
        {
          "output_type": "execute_result",
          "data": {
            "text/plain": [
              "((2943, 150, 150, 3), (736, 150, 150, 3))"
            ]
          },
          "metadata": {},
          "execution_count": 16
        }
      ],
      "source": [
        "X_train.shape, X_test.shape"
      ]
    },
    {
      "cell_type": "code",
      "execution_count": 17,
      "metadata": {
        "id": "i1LSBX6AyPR0"
      },
      "outputs": [],
      "source": [
        "r50 = tf.keras.applications.ResNet50(weights='imagenet', include_top=False, input_shape=(image_size, image_size, 3))"
      ]
    },
    {
      "cell_type": "code",
      "source": [
        "X_train_preds = r50.predict(X_train)"
      ],
      "metadata": {
        "colab": {
          "base_uri": "https://localhost:8080/"
        },
        "id": "hXmK-099NFW2",
        "outputId": "1bf7e0f2-4b77-4e04-f087-ae76b9ad68a9"
      },
      "execution_count": 21,
      "outputs": [
        {
          "metadata": {
            "tags": null
          },
          "name": "stdout",
          "output_type": "stream",
          "text": [
            "92/92 [==============================] - 268s 3s/step\n"
          ]
        }
      ]
    },
    {
      "cell_type": "code",
      "execution_count": 18,
      "metadata": {
        "id": "5vo8UcmSEc1I",
        "colab": {
          "base_uri": "https://localhost:8080/"
        },
        "outputId": "795c196b-5add-4b96-fee3-a45b23ff848b"
      },
      "outputs": [
        {
          "output_type": "stream",
          "name": "stdout",
          "text": [
            "23/23 [==============================] - 73s 3s/step\n"
          ]
        }
      ],
      "source": [
        "X_test_preds = r50.predict(X_test)"
      ]
    },
    {
      "cell_type": "code",
      "execution_count": 22,
      "metadata": {
        "id": "rJpZ9R3wyPR0",
        "colab": {
          "base_uri": "https://localhost:8080/"
        },
        "outputId": "eb633786-9fc6-4232-d10d-6a7191aaa278"
      },
      "outputs": [
        {
          "output_type": "execute_result",
          "data": {
            "text/plain": [
              "((2943, 5, 5, 2048), (736, 5, 5, 2048))"
            ]
          },
          "metadata": {},
          "execution_count": 22
        }
      ],
      "source": [
        "X_train_preds.shape, X_test_preds.shape"
      ]
    },
    {
      "cell_type": "code",
      "execution_count": 25,
      "metadata": {
        "id": "0Y-hCcF6yPR0"
      },
      "outputs": [],
      "source": [
        "X_train_features = np.zeros((2943, 1, 51200))\n",
        "for i in range(2943): #5875\n",
        "    X_train_features[i] = X_train_preds[i].reshape((1, 51200))\n",
        "                            #653\n",
        "X_test_features = np.zeros((736, 1, 51200))\n",
        "for i in range(736):                                 #100352\n",
        "    X_test_features[i] = X_test_preds[i].reshape((1, 51200))"
      ]
    },
    {
      "cell_type": "code",
      "execution_count": 27,
      "metadata": {
        "id": "XN6m32OByPR0"
      },
      "outputs": [],
      "source": [
        "model = tf.keras.models.Sequential([\n",
        "  tf.keras.layers.LSTM(512, input_shape=(1, 51200), activation='relu', return_sequences=True),\n",
        "  tf.keras.layers.Dropout(0.2),\n",
        "  tf.keras.layers.LSTM(256, activation='relu', return_sequences=True),\n",
        "  tf.keras.layers.Dropout(0.2),\n",
        "  tf.keras.layers.LSTM(128, activation='relu', return_sequences=True),\n",
        "  tf.keras.layers.Dropout(0.2),\n",
        "  tf.keras.layers.LSTM(64, activation='relu'),\n",
        "  tf.keras.layers.Dropout(0.2),\n",
        "  tf.keras.layers.Dense(3, activation='softmax')\n",
        "])"
      ]
    },
    {
      "cell_type": "code",
      "execution_count": 28,
      "metadata": {
        "id": "aNDESFBPyPR1",
        "colab": {
          "base_uri": "https://localhost:8080/"
        },
        "outputId": "481128d9-c5a3-4163-9d1b-3e3e120d6a49"
      },
      "outputs": [
        {
          "output_type": "stream",
          "name": "stdout",
          "text": [
            "Model: \"sequential_1\"\n",
            "_________________________________________________________________\n",
            " Layer (type)                Output Shape              Param #   \n",
            "=================================================================\n",
            " lstm_4 (LSTM)               (None, 1, 512)            105908224 \n",
            "                                                                 \n",
            " dropout_4 (Dropout)         (None, 1, 512)            0         \n",
            "                                                                 \n",
            " lstm_5 (LSTM)               (None, 1, 256)            787456    \n",
            "                                                                 \n",
            " dropout_5 (Dropout)         (None, 1, 256)            0         \n",
            "                                                                 \n",
            " lstm_6 (LSTM)               (None, 1, 128)            197120    \n",
            "                                                                 \n",
            " dropout_6 (Dropout)         (None, 1, 128)            0         \n",
            "                                                                 \n",
            " lstm_7 (LSTM)               (None, 64)                49408     \n",
            "                                                                 \n",
            " dropout_7 (Dropout)         (None, 64)                0         \n",
            "                                                                 \n",
            " dense_1 (Dense)             (None, 3)                 195       \n",
            "                                                                 \n",
            "=================================================================\n",
            "Total params: 106942403 (407.95 MB)\n",
            "Trainable params: 106942403 (407.95 MB)\n",
            "Non-trainable params: 0 (0.00 Byte)\n",
            "_________________________________________________________________\n"
          ]
        }
      ],
      "source": [
        "model.summary()"
      ]
    },
    {
      "cell_type": "code",
      "execution_count": 29,
      "metadata": {
        "id": "XLGJHfo3yPR1"
      },
      "outputs": [],
      "source": [
        "model.compile(loss='categorical_crossentropy',optimizer = 'Adam', metrics= ['accuracy'])"
      ]
    },
    {
      "cell_type": "code",
      "execution_count": 30,
      "metadata": {
        "id": "qlWm0VY7yPR1"
      },
      "outputs": [],
      "source": [
        "tensorboard = TensorBoard(log_dir = 'logs')\n",
        "checkpoint = ModelCheckpoint(\"bestomodelo.h5\",monitor=\"val_accuracy\",save_best_only=True,mode=\"auto\",verbose=1)\n",
        "reduce_lr = ReduceLROnPlateau(monitor = 'val_accuracy', factor = 0.3, patience = 2, min_delta = 0.001, mode='auto',verbose=1)"
      ]
    },
    {
      "cell_type": "code",
      "execution_count": 31,
      "metadata": {
        "id": "ax_VPJ7ryPR1",
        "colab": {
          "base_uri": "https://localhost:8080/"
        },
        "outputId": "44e29171-363c-48b2-b6d7-dd8acb62a1bf"
      },
      "outputs": [
        {
          "metadata": {
            "tags": null
          },
          "name": "stdout",
          "output_type": "stream",
          "text": [
            "Epoch 1/12\n",
            "83/83 [==============================] - ETA: 0s - loss: 0.5417 - accuracy: 0.7704\n",
            "Epoch 1: val_accuracy improved from -inf to 0.95593, saving model to bestomodelo.h5\n"
          ]
        },
        {
          "metadata": {
            "tags": null
          },
          "name": "stderr",
          "output_type": "stream",
          "text": [
            "/usr/local/lib/python3.10/dist-packages/keras/src/engine/training.py:3103: UserWarning: You are saving your model as an HDF5 file via `model.save()`. This file format is considered legacy. We recommend using instead the native Keras format, e.g. `model.save('my_model.keras')`.\n",
            "  saving_api.save_model(\n"
          ]
        },
        {
          "output_type": "stream",
          "name": "stdout",
          "text": [
            "83/83 [==============================] - 243s 3s/step - loss: 0.5417 - accuracy: 0.7704 - val_loss: 0.1328 - val_accuracy: 0.9559 - lr: 0.0010\n",
            "Epoch 2/12\n",
            "83/83 [==============================] - ETA: 0s - loss: 0.1264 - accuracy: 0.9626\n",
            "Epoch 2: val_accuracy improved from 0.95593 to 0.97966, saving model to bestomodelo.h5\n",
            "83/83 [==============================] - 226s 3s/step - loss: 0.1264 - accuracy: 0.9626 - val_loss: 0.0570 - val_accuracy: 0.9797 - lr: 0.0010\n",
            "Epoch 3/12\n",
            "83/83 [==============================] - ETA: 0s - loss: 0.1110 - accuracy: 0.9713\n",
            "Epoch 3: val_accuracy improved from 0.97966 to 0.98983, saving model to bestomodelo.h5\n",
            "83/83 [==============================] - 241s 3s/step - loss: 0.1110 - accuracy: 0.9713 - val_loss: 0.0242 - val_accuracy: 0.9898 - lr: 0.0010\n",
            "Epoch 4/12\n",
            "83/83 [==============================] - ETA: 0s - loss: 0.0572 - accuracy: 0.9864\n",
            "Epoch 4: val_accuracy did not improve from 0.98983\n",
            "83/83 [==============================] - 218s 3s/step - loss: 0.0572 - accuracy: 0.9864 - val_loss: 0.0736 - val_accuracy: 0.9864 - lr: 0.0010\n",
            "Epoch 5/12\n",
            "83/83 [==============================] - ETA: 0s - loss: 0.0466 - accuracy: 0.9898\n",
            "Epoch 5: val_accuracy improved from 0.98983 to 0.99322, saving model to bestomodelo.h5\n",
            "83/83 [==============================] - 249s 3s/step - loss: 0.0466 - accuracy: 0.9898 - val_loss: 0.0505 - val_accuracy: 0.9932 - lr: 0.0010\n",
            "Epoch 6/12\n",
            "83/83 [==============================] - ETA: 0s - loss: 0.0343 - accuracy: 0.9921\n",
            "Epoch 6: val_accuracy did not improve from 0.99322\n",
            "83/83 [==============================] - 217s 3s/step - loss: 0.0343 - accuracy: 0.9921 - val_loss: 0.1117 - val_accuracy: 0.9729 - lr: 0.0010\n",
            "Epoch 7/12\n",
            "83/83 [==============================] - ETA: 0s - loss: 0.0424 - accuracy: 0.9902\n",
            "Epoch 7: val_accuracy did not improve from 0.99322\n",
            "\n",
            "Epoch 7: ReduceLROnPlateau reducing learning rate to 0.0003000000142492354.\n",
            "83/83 [==============================] - 210s 3s/step - loss: 0.0424 - accuracy: 0.9902 - val_loss: 0.0438 - val_accuracy: 0.9932 - lr: 0.0010\n",
            "Epoch 8/12\n",
            "83/83 [==============================] - ETA: 0s - loss: 0.0124 - accuracy: 0.9970\n",
            "Epoch 8: val_accuracy did not improve from 0.99322\n",
            "83/83 [==============================] - 211s 3s/step - loss: 0.0124 - accuracy: 0.9970 - val_loss: 0.0411 - val_accuracy: 0.9898 - lr: 3.0000e-04\n",
            "Epoch 9/12\n",
            "83/83 [==============================] - ETA: 0s - loss: 0.0071 - accuracy: 0.9985\n",
            "Epoch 9: val_accuracy did not improve from 0.99322\n",
            "\n",
            "Epoch 9: ReduceLROnPlateau reducing learning rate to 9.000000427477062e-05.\n",
            "83/83 [==============================] - 207s 3s/step - loss: 0.0071 - accuracy: 0.9985 - val_loss: 0.0358 - val_accuracy: 0.9864 - lr: 3.0000e-04\n",
            "Epoch 10/12\n",
            "83/83 [==============================] - ETA: 0s - loss: 0.0037 - accuracy: 0.9992\n",
            "Epoch 10: val_accuracy did not improve from 0.99322\n",
            "83/83 [==============================] - 209s 3s/step - loss: 0.0037 - accuracy: 0.9992 - val_loss: 0.0337 - val_accuracy: 0.9864 - lr: 9.0000e-05\n",
            "Epoch 11/12\n",
            "83/83 [==============================] - ETA: 0s - loss: 0.0037 - accuracy: 0.9989\n",
            "Epoch 11: val_accuracy did not improve from 0.99322\n",
            "\n",
            "Epoch 11: ReduceLROnPlateau reducing learning rate to 2.700000040931627e-05.\n",
            "83/83 [==============================] - 210s 3s/step - loss: 0.0037 - accuracy: 0.9989 - val_loss: 0.0364 - val_accuracy: 0.9864 - lr: 9.0000e-05\n",
            "Epoch 12/12\n",
            "83/83 [==============================] - ETA: 0s - loss: 0.0062 - accuracy: 0.9974\n",
            "Epoch 12: val_accuracy did not improve from 0.99322\n",
            "83/83 [==============================] - 212s 3s/step - loss: 0.0062 - accuracy: 0.9974 - val_loss: 0.0323 - val_accuracy: 0.9864 - lr: 2.7000e-05\n"
          ]
        }
      ],
      "source": [
        "history = model.fit(X_train_features, y_train, validation_split=0.1, epochs=12, verbose=1, batch_size=32, callbacks=[tensorboard,checkpoint,reduce_lr])"
      ]
    },
    {
      "cell_type": "code",
      "execution_count": 32,
      "metadata": {
        "id": "Sd9UBpQGyPR1",
        "colab": {
          "base_uri": "https://localhost:8080/",
          "height": 537
        },
        "outputId": "d2911343-979f-4447-818c-52264106674b"
      },
      "outputs": [
        {
          "output_type": "display_data",
          "data": {
            "text/plain": [
              "<Figure size 1400x700 with 2 Axes>"
            ],
            "image/png": "[encoded data removed]"
          },
          "metadata": {}
        }
      ],
      "source": [
        "filterwarnings('ignore')\n",
        "\n",
        "epochs = [i for i in range(12)]\n",
        "fig, ax = plt.subplots(1,2,figsize=(14,7))\n",
        "train_acc = history.history['accuracy']\n",
        "train_loss = history.history['loss']\n",
        "val_acc = history.history['val_accuracy']\n",
        "val_loss = history.history['val_loss']\n",
        "\n",
        "fig.text(s='Epochs vs. Training and Validation Accuracy/Loss',size=18,fontweight='bold',\n",
        "             fontname='monospace',color=colors_dark[1],y=1,x=0.28,alpha=0.8)\n",
        "\n",
        "sns.despine()\n",
        "ax[0].plot(epochs, train_acc, marker='o',markerfacecolor=colors_green[2],color=colors_green[3],\n",
        "           label = 'Training Accuracy')\n",
        "ax[0].plot(epochs, val_acc, marker='o',markerfacecolor=colors_red[2],color=colors_red[3],\n",
        "           label = 'Validation Accuracy')\n",
        "ax[0].legend(frameon=False)\n",
        "ax[0].set_xlabel('Epochs')\n",
        "ax[0].set_ylabel('Accuracy')\n",
        "\n",
        "sns.despine()\n",
        "ax[1].plot(epochs, train_loss, marker='o',markerfacecolor=colors_green[2],color=colors_green[3],\n",
        "           label ='Training Loss')\n",
        "ax[1].plot(epochs, val_loss, marker='o',markerfacecolor=colors_red[2],color=colors_red[3],\n",
        "           label = 'Validation Loss')\n",
        "ax[1].legend(frameon=False)\n",
        "ax[1].set_xlabel('Epochs')\n",
        "ax[1].set_ylabel('Training & Validation Loss')\n",
        "\n",
        "fig.show()"
      ]
    },
    {
      "cell_type": "code",
      "execution_count": 33,
      "metadata": {
        "id": "qkJnbAM5yPR1",
        "colab": {
          "base_uri": "https://localhost:8080/"
        },
        "outputId": "972d1da1-a326-46ca-e7f1-ed387baddb26"
      },
      "outputs": [
        {
          "output_type": "stream",
          "name": "stdout",
          "text": [
            "23/23 [==============================] - 5s 195ms/step - loss: 0.1536 - accuracy: 0.9783\n"
          ]
        },
        {
          "output_type": "execute_result",
          "data": {
            "text/plain": [
              "[0.1536046266555786, 0.97826087474823]"
            ]
          },
          "metadata": {},
          "execution_count": 33
        }
      ],
      "source": [
        "model.evaluate(X_test_features, y_test)"
      ]
    },
    {
      "cell_type": "code",
      "execution_count": 34,
      "metadata": {
        "id": "Mzz-iotPyPR1",
        "colab": {
          "base_uri": "https://localhost:8080/"
        },
        "outputId": "4642013f-5c66-43ae-c845-4e1337043710"
      },
      "outputs": [
        {
          "output_type": "stream",
          "name": "stdout",
          "text": [
            "23/23 [==============================] - 5s 191ms/step\n"
          ]
        }
      ],
      "source": [
        "pred = model.predict(X_test_features)\n",
        "pred = np.argmax(pred,axis=1)\n",
        "y_test_new = np.argmax(y_test,axis=1)"
      ]
    },
    {
      "cell_type": "code",
      "execution_count": 35,
      "metadata": {
        "id": "ZW48o-SxyPR1",
        "colab": {
          "base_uri": "https://localhost:8080/"
        },
        "outputId": "c90d2e9a-0197-407e-a176-b5810169849e"
      },
      "outputs": [
        {
          "output_type": "stream",
          "name": "stdout",
          "text": [
            "              precision    recall  f1-score   support\n",
            "\n",
            "           0       0.97      0.96      0.97       216\n",
            "           1       0.98      1.00      0.99       290\n",
            "           2       0.98      0.97      0.98       230\n",
            "\n",
            "    accuracy                           0.98       736\n",
            "   macro avg       0.98      0.98      0.98       736\n",
            "weighted avg       0.98      0.98      0.98       736\n",
            "\n"
          ]
        }
      ],
      "source": [
        "print(classification_report(y_test_new,pred))"
      ]
    },
    {
      "cell_type": "code",
      "execution_count": 36,
      "metadata": {
        "id": "XRgK0ZwCyPR1",
        "colab": {
          "base_uri": "https://localhost:8080/",
          "height": 542
        },
        "outputId": "23f2c3b4-8ac5-4a48-aeef-2be63f9b2b91"
      },
      "outputs": [
        {
          "output_type": "display_data",
          "data": {
            "text/plain": [
              "<Figure size 1400x700 with 2 Axes>"
            ],
            "image/png": "[encoded data removed]"
          },
          "metadata": {}
        }
      ],
      "source": [
        "fig,ax=plt.subplots(1,1,figsize=(14,7))\n",
        "sns.heatmap(confusion_matrix(y_test_new,pred),ax=ax,xticklabels=labels,yticklabels=labels,annot=True, cmap=colors_green[::-1],alpha=0.7,linewidths=2,linecolor=colors_dark[3])\n",
        "fig.text(s='Heatmap of the Confusion Matrix',size=18,fontweight='bold',fontname='monospace',color=colors_dark[1],y=0.92,x=0.28,alpha=0.8)\n",
        "plt.show()"
      ]
    }
  ],
  "metadata": {
    "colab": {
      "provenance": [],
      "authorship_tag": "ABX9TyO5tG+lTWLFDxcE9LxovB82",
      "include_colab_link": true
    },
    "kernelspec": {
      "display_name": "Python 3",
      "name": "python3"
    },
    "language_info": {
      "name": "python"
    }
  },
  "nbformat": 4,
  "nbformat_minor": 0
}