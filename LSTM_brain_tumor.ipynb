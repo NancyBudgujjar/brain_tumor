{
  "cells": [
    {
      "cell_type": "markdown",
      "metadata": {
        "id": "view-in-github",
        "colab_type": "text"
      },
      "source": [
        "<a href=\"https://colab.research.google.com/github/NancyBudgujjar/brain_tumor/blob/main/LSTM_brain_tumor.ipynb\" target=\"_parent\"><img src=\"https://colab.research.google.com/assets/colab-badge.svg\" alt=\"Open In Colab\"/></a>"
      ]
    },
    {
      "cell_type": "code",
      "execution_count": 1,
      "metadata": {
        "colab": {
          "base_uri": "https://localhost:8080/"
        },
        "id": "d1GgOQfRyPRu",
        "outputId": "69f880fa-d8f9-40fe-87d5-709c440bf8ab"
      },
      "outputs": [
        {
          "output_type": "stream",
          "name": "stdout",
          "text": [
            "Requirement already satisfied: tensorflow in /usr/local/lib/python3.10/dist-packages (2.14.0)\n",
            "Collecting tensorflow\n",
            "  Downloading tensorflow-2.15.0.post1-cp310-cp310-manylinux_2_17_x86_64.manylinux2014_x86_64.whl (475.2 MB)\n",
            "\u001b[2K     \u001b[90m━━━━━━━━━━━━━━━━━━━━━━━━━━━━━━━━━━━━━━━━\u001b[0m \u001b[32m475.2/475.2 MB\u001b[0m \u001b[31m3.0 MB/s\u001b[0m eta \u001b[36m0:00:00\u001b[0m\n",
            "\u001b[?25hRequirement already satisfied: absl-py>=1.0.0 in /usr/local/lib/python3.10/dist-packages (from tensorflow) (1.4.0)\n",
            "Requirement already satisfied: astunparse>=1.6.0 in /usr/local/lib/python3.10/dist-packages (from tensorflow) (1.6.3)\n",
            "Requirement already satisfied: flatbuffers>=23.5.26 in /usr/local/lib/python3.10/dist-packages (from tensorflow) (23.5.26)\n",
            "Requirement already satisfied: gast!=0.5.0,!=0.5.1,!=0.5.2,>=0.2.1 in /usr/local/lib/python3.10/dist-packages (from tensorflow) (0.5.4)\n",
            "Requirement already satisfied: google-pasta>=0.1.1 in /usr/local/lib/python3.10/dist-packages (from tensorflow) (0.2.0)\n",
            "Requirement already satisfied: h5py>=2.9.0 in /usr/local/lib/python3.10/dist-packages (from tensorflow) (3.9.0)\n",
            "Requirement already satisfied: libclang>=13.0.0 in /usr/local/lib/python3.10/dist-packages (from tensorflow) (16.0.6)\n",
            "Requirement already satisfied: ml-dtypes~=0.2.0 in /usr/local/lib/python3.10/dist-packages (from tensorflow) (0.2.0)\n",
            "Requirement already satisfied: numpy<2.0.0,>=1.23.5 in /usr/local/lib/python3.10/dist-packages (from tensorflow) (1.23.5)\n",
            "Requirement already satisfied: opt-einsum>=2.3.2 in /usr/local/lib/python3.10/dist-packages (from tensorflow) (3.3.0)\n",
            "Requirement already satisfied: packaging in /usr/local/lib/python3.10/dist-packages (from tensorflow) (23.2)\n",
            "Requirement already satisfied: protobuf!=4.21.0,!=4.21.1,!=4.21.2,!=4.21.3,!=4.21.4,!=4.21.5,<5.0.0dev,>=3.20.3 in /usr/local/lib/python3.10/dist-packages (from tensorflow) (3.20.3)\n",
            "Requirement already satisfied: setuptools in /usr/local/lib/python3.10/dist-packages (from tensorflow) (67.7.2)\n",
            "Requirement already satisfied: six>=1.12.0 in /usr/local/lib/python3.10/dist-packages (from tensorflow) (1.16.0)\n",
            "Requirement already satisfied: termcolor>=1.1.0 in /usr/local/lib/python3.10/dist-packages (from tensorflow) (2.4.0)\n",
            "Requirement already satisfied: typing-extensions>=3.6.6 in /usr/local/lib/python3.10/dist-packages (from tensorflow) (4.5.0)\n",
            "Requirement already satisfied: wrapt<1.15,>=1.11.0 in /usr/local/lib/python3.10/dist-packages (from tensorflow) (1.14.1)\n",
            "Requirement already satisfied: tensorflow-io-gcs-filesystem>=0.23.1 in /usr/local/lib/python3.10/dist-packages (from tensorflow) (0.34.0)\n",
            "Requirement already satisfied: grpcio<2.0,>=1.24.3 in /usr/local/lib/python3.10/dist-packages (from tensorflow) (1.59.3)\n",
            "Collecting tensorboard<2.16,>=2.15 (from tensorflow)\n",
            "  Downloading tensorboard-2.15.1-py3-none-any.whl (5.5 MB)\n",
            "\u001b[2K     \u001b[90m━━━━━━━━━━━━━━━━━━━━━━━━━━━━━━━━━━━━━━━━\u001b[0m \u001b[32m5.5/5.5 MB\u001b[0m \u001b[31m30.1 MB/s\u001b[0m eta \u001b[36m0:00:00\u001b[0m\n",
            "\u001b[?25hCollecting tensorflow-estimator<2.16,>=2.15.0 (from tensorflow)\n",
            "  Downloading tensorflow_estimator-2.15.0-py2.py3-none-any.whl (441 kB)\n",
            "\u001b[2K     \u001b[90m━━━━━━━━━━━━━━━━━━━━━━━━━━━━━━━━━━━━━━━━\u001b[0m \u001b[32m442.0/442.0 kB\u001b[0m \u001b[31m16.3 MB/s\u001b[0m eta \u001b[36m0:00:00\u001b[0m\n",
            "\u001b[?25hCollecting keras<2.16,>=2.15.0 (from tensorflow)\n",
            "  Downloading keras-2.15.0-py3-none-any.whl (1.7 MB)\n",
            "\u001b[2K     \u001b[90m━━━━━━━━━━━━━━━━━━━━━━━━━━━━━━━━━━━━━━━━\u001b[0m \u001b[32m1.7/1.7 MB\u001b[0m \u001b[31m68.5 MB/s\u001b[0m eta \u001b[36m0:00:00\u001b[0m\n",
            "\u001b[?25hRequirement already satisfied: wheel<1.0,>=0.23.0 in /usr/local/lib/python3.10/dist-packages (from astunparse>=1.6.0->tensorflow) (0.42.0)\n",
            "Requirement already satisfied: google-auth<3,>=1.6.3 in /usr/local/lib/python3.10/dist-packages (from tensorboard<2.16,>=2.15->tensorflow) (2.17.3)\n",
            "Requirement already satisfied: google-auth-oauthlib<2,>=0.5 in /usr/local/lib/python3.10/dist-packages (from tensorboard<2.16,>=2.15->tensorflow) (1.0.0)\n",
            "Requirement already satisfied: markdown>=2.6.8 in /usr/local/lib/python3.10/dist-packages (from tensorboard<2.16,>=2.15->tensorflow) (3.5.1)\n",
            "Requirement already satisfied: requests<3,>=2.21.0 in /usr/local/lib/python3.10/dist-packages (from tensorboard<2.16,>=2.15->tensorflow) (2.31.0)\n",
            "Requirement already satisfied: tensorboard-data-server<0.8.0,>=0.7.0 in /usr/local/lib/python3.10/dist-packages (from tensorboard<2.16,>=2.15->tensorflow) (0.7.2)\n",
            "Requirement already satisfied: werkzeug>=1.0.1 in /usr/local/lib/python3.10/dist-packages (from tensorboard<2.16,>=2.15->tensorflow) (3.0.1)\n",
            "Requirement already satisfied: cachetools<6.0,>=2.0.0 in /usr/local/lib/python3.10/dist-packages (from google-auth<3,>=1.6.3->tensorboard<2.16,>=2.15->tensorflow) (5.3.2)\n",
            "Requirement already satisfied: pyasn1-modules>=0.2.1 in /usr/local/lib/python3.10/dist-packages (from google-auth<3,>=1.6.3->tensorboard<2.16,>=2.15->tensorflow) (0.3.0)\n",
            "Requirement already satisfied: rsa<5,>=3.1.4 in /usr/local/lib/python3.10/dist-packages (from google-auth<3,>=1.6.3->tensorboard<2.16,>=2.15->tensorflow) (4.9)\n",
            "Requirement already satisfied: requests-oauthlib>=0.7.0 in /usr/local/lib/python3.10/dist-packages (from google-auth-oauthlib<2,>=0.5->tensorboard<2.16,>=2.15->tensorflow) (1.3.1)\n",
            "Requirement already satisfied: charset-normalizer<4,>=2 in /usr/local/lib/python3.10/dist-packages (from requests<3,>=2.21.0->tensorboard<2.16,>=2.15->tensorflow) (3.3.2)\n",
            "Requirement already satisfied: idna<4,>=2.5 in /usr/local/lib/python3.10/dist-packages (from requests<3,>=2.21.0->tensorboard<2.16,>=2.15->tensorflow) (3.6)\n",
            "Requirement already satisfied: urllib3<3,>=1.21.1 in /usr/local/lib/python3.10/dist-packages (from requests<3,>=2.21.0->tensorboard<2.16,>=2.15->tensorflow) (2.0.7)\n",
            "Requirement already satisfied: certifi>=2017.4.17 in /usr/local/lib/python3.10/dist-packages (from requests<3,>=2.21.0->tensorboard<2.16,>=2.15->tensorflow) (2023.11.17)\n",
            "Requirement already satisfied: MarkupSafe>=2.1.1 in /usr/local/lib/python3.10/dist-packages (from werkzeug>=1.0.1->tensorboard<2.16,>=2.15->tensorflow) (2.1.3)\n",
            "Requirement already satisfied: pyasn1<0.6.0,>=0.4.6 in /usr/local/lib/python3.10/dist-packages (from pyasn1-modules>=0.2.1->google-auth<3,>=1.6.3->tensorboard<2.16,>=2.15->tensorflow) (0.5.1)\n",
            "Requirement already satisfied: oauthlib>=3.0.0 in /usr/local/lib/python3.10/dist-packages (from requests-oauthlib>=0.7.0->google-auth-oauthlib<2,>=0.5->tensorboard<2.16,>=2.15->tensorflow) (3.2.2)\n",
            "Installing collected packages: tensorflow-estimator, keras, tensorboard, tensorflow\n",
            "  Attempting uninstall: tensorflow-estimator\n",
            "    Found existing installation: tensorflow-estimator 2.14.0\n",
            "    Uninstalling tensorflow-estimator-2.14.0:\n",
            "      Successfully uninstalled tensorflow-estimator-2.14.0\n",
            "  Attempting uninstall: keras\n",
            "    Found existing installation: keras 2.14.0\n",
            "    Uninstalling keras-2.14.0:\n",
            "      Successfully uninstalled keras-2.14.0\n",
            "  Attempting uninstall: tensorboard\n",
            "    Found existing installation: tensorboard 2.14.1\n",
            "    Uninstalling tensorboard-2.14.1:\n",
            "      Successfully uninstalled tensorboard-2.14.1\n",
            "  Attempting uninstall: tensorflow\n",
            "    Found existing installation: tensorflow 2.14.0\n",
            "    Uninstalling tensorflow-2.14.0:\n",
            "      Successfully uninstalled tensorflow-2.14.0\n",
            "Successfully installed keras-2.15.0 tensorboard-2.15.1 tensorflow-2.15.0.post1 tensorflow-estimator-2.15.0\n"
          ]
        }
      ],
      "source": [
        "!pip install tensorflow -U"
      ]
    },
    {
      "cell_type": "code",
      "execution_count": 2,
      "metadata": {
        "id": "qJWA-h23yPRw"
      },
      "outputs": [],
      "source": [
        "import matplotlib.pyplot as plt\n",
        "import numpy as np\n",
        "import pandas as pd\n",
        "import seaborn as sns\n",
        "import cv2\n",
        "import tensorflow as tf\n",
        "from tensorflow.keras.preprocessing.image import ImageDataGenerator\n",
        "from tqdm import tqdm\n",
        "import os\n",
        "from sklearn.utils import shuffle\n",
        "from sklearn.model_selection import train_test_split\n",
        "from tensorflow.keras.applications.efficientnet import EfficientNetB1\n",
        "from tensorflow.keras.applications.vgg16 import VGG16\n",
        "from tensorflow.keras.applications.resnet50 import ResNet50, preprocess_input\n",
        "from tensorflow.keras.callbacks import EarlyStopping, ReduceLROnPlateau, TensorBoard, ModelCheckpoint\n",
        "from sklearn.metrics import classification_report,confusion_matrix\n",
        "import ipywidgets as widgets\n",
        "import io\n",
        "from PIL import Image\n",
        "from IPython.display import display,clear_output\n",
        "from warnings import filterwarnings\n",
        "import pickle"
      ]
    },
    {
      "cell_type": "code",
      "execution_count": 3,
      "metadata": {
        "id": "c-2M7SNuyPRw"
      },
      "outputs": [],
      "source": [
        "colors_dark = [\"#1F1F1F\", \"#313131\", '#636363', '#AEAEAE', '#DADADA']\n",
        "colors_red = [\"#331313\", \"#582626\", '#9E1717', '#D35151', '#E9B4B4']\n",
        "colors_green = ['#01411C','#4B6F44','#4F7942','#74C365','#D0F0C0']"
      ]
    },
    {
      "cell_type": "code",
      "execution_count": 4,
      "metadata": {
        "id": "Hp_YLjOzyPRx"
      },
      "outputs": [],
      "source": [
        "rot = tf.keras.layers.RandomRotation(factor=0.2)\n",
        "flip = tf.keras.layers.RandomFlip(mode=\"horizontal_and_vertical\")\n",
        "\n",
        "def augment(images):\n",
        "    for i in range(len(images)):\n",
        "        flipped = flip(images[i])\n",
        "        images[i] = rot(flipped)\n",
        "\n",
        "    return images"
      ]
    },
    {
      "cell_type": "code",
      "execution_count": 5,
      "metadata": {
        "colab": {
          "base_uri": "https://localhost:8080/"
        },
        "id": "96okB20S0QpB",
        "outputId": "10b081f2-0403-4e2d-d13f-1eacff7629bd"
      },
      "outputs": [
        {
          "output_type": "stream",
          "name": "stdout",
          "text": [
            "Mounted at /content/drive\n"
          ]
        }
      ],
      "source": [
        "from google.colab import drive\n",
        "drive.mount('/content/drive')"
      ]
    },
    {
      "cell_type": "code",
      "execution_count": 6,
      "metadata": {
        "id": "WgO3thNj0vWq"
      },
      "outputs": [],
      "source": [
        "#import os\n",
        "#os.chdir('/content/drive/MyDrive/projects/Brain_tumor')\n",
        "#db=\"/content/drive/MyDrive/projects/Brain_tumor\""
      ]
    },
    {
      "cell_type": "code",
      "execution_count": 7,
      "metadata": {
        "colab": {
          "base_uri": "https://localhost:8080/"
        },
        "id": "GuPx8ilS1NOo",
        "outputId": "e0b004ad-669a-4368-c785-6379359743dc"
      },
      "outputs": [
        {
          "output_type": "stream",
          "name": "stderr",
          "text": [
            "100%|██████████| 826/826 [00:20<00:00, 40.13it/s] \n",
            "100%|██████████| 395/395 [00:03<00:00, 99.39it/s] \n",
            "100%|██████████| 827/827 [00:12<00:00, 65.76it/s] \n"
          ]
        }
      ],
      "source": [
        "#labels = ['glioma_tumor','no_tumor','meningioma_tumor','pituitary_tumor']\n",
        "labels = ['glioma_tumor','no_tumor','pituitary_tumor']\n",
        "X_train = []\n",
        "y_train = []\n",
        "image_size = 150\n",
        "for i in labels:\n",
        "    folderPath = os.path.join('/content/drive/MyDrive/project/Brain_tumor','Training',i)\n",
        "    for j in tqdm(os.listdir(folderPath)):\n",
        "        img = cv2.imread(os.path.join(folderPath,j))\n",
        "        img = cv2.resize(img,(image_size, image_size))\n",
        "        #img = np.expand_dims(img, axis=0)\n",
        "        img = preprocess_input(img)\n",
        "        X_train.append(img)\n",
        "        y_train.append(i)"
      ]
    },
    {
      "cell_type": "code",
      "execution_count": 8,
      "metadata": {
        "colab": {
          "base_uri": "https://localhost:8080/"
        },
        "id": "Qvp47npMHtEQ",
        "outputId": "96934feb-2439-40a8-b754-b4e0a26db631"
      },
      "outputs": [
        {
          "output_type": "stream",
          "name": "stderr",
          "text": [
            "100%|██████████| 100/100 [00:01<00:00, 85.14it/s]\n",
            "100%|██████████| 105/105 [00:01<00:00, 93.18it/s]\n",
            "100%|██████████| 84/84 [00:20<00:00,  4.20it/s]\n"
          ]
        }
      ],
      "source": [
        "for i in labels:\n",
        "    folderPath = os.path.join('/content/drive/MyDrive/project/Brain_tumor','Testing',i)\n",
        "    for j in tqdm(os.listdir(folderPath)):\n",
        "        img = cv2.imread(os.path.join(folderPath,j))\n",
        "        img = cv2.resize(img,(image_size, image_size))\n",
        "        #img = np.expand_dims(img, axis=0)\n",
        "        img = preprocess_input(img)\n",
        "        X_train.append(img)\n",
        "        y_train.append(i)\n",
        "\n",
        "X_train = np.array(X_train)\n",
        "y_train = np.array(y_train)"
      ]
    },
    {
      "cell_type": "code",
      "execution_count": 9,
      "metadata": {
        "id": "X05l1_fIyPRy"
      },
      "outputs": [],
      "source": [
        "y_train_new = []\n",
        "for i in y_train:\n",
        "    y_train_new.append(labels.index(i))\n",
        "y_train = y_train_new\n",
        "y_train = tf.keras.utils.to_categorical(y_train)"
      ]
    },
    {
      "cell_type": "code",
      "execution_count": 10,
      "metadata": {
        "id": "ndxWTJKJyPRy"
      },
      "outputs": [],
      "source": [
        "#X_train = np.vstack(X_train)\n",
        "X_train = np.vstack((X_train, augment(X_train)))"
      ]
    },
    {
      "cell_type": "code",
      "execution_count": 11,
      "metadata": {
        "id": "uAzCJ8zdHu8P"
      },
      "outputs": [],
      "source": [
        "y_train = np.vstack((y_train, y_train.copy()))"
      ]
    },
    {
      "cell_type": "code",
      "execution_count": 12,
      "metadata": {
        "colab": {
          "base_uri": "https://localhost:8080/"
        },
        "id": "g8rZ_TkmyPRy",
        "outputId": "08635789-7c27-4a9f-b555-57010bb7cccc"
      },
      "outputs": [
        {
          "output_type": "execute_result",
          "data": {
            "text/plain": [
              "((4674, 150, 150, 3), (4674, 3))"
            ]
          },
          "metadata": {},
          "execution_count": 12
        }
      ],
      "source": [
        "X_train.shape, y_train.shape"
      ]
    },
    {
      "cell_type": "code",
      "execution_count": 13,
      "metadata": {
        "id": "VBbIIfEJyPRz"
      },
      "outputs": [],
      "source": [
        "X_train, y_train = shuffle(X_train, y_train, random_state=101)"
      ]
    },
    {
      "cell_type": "code",
      "execution_count": 14,
      "metadata": {
        "id": "YgZF4mBMyPRz"
      },
      "outputs": [],
      "source": [
        "X_train,X_test,y_train,y_test = train_test_split(X_train, y_train, test_size=0.2, random_state=42)"
      ]
    },
    {
      "cell_type": "code",
      "execution_count": 15,
      "metadata": {
        "colab": {
          "base_uri": "https://localhost:8080/"
        },
        "id": "MnclTA1cyPR0",
        "outputId": "19574642-401c-4e34-f69f-b9528efbc126"
      },
      "outputs": [
        {
          "output_type": "execute_result",
          "data": {
            "text/plain": [
              "((3739, 150, 150, 3), (935, 150, 150, 3))"
            ]
          },
          "metadata": {},
          "execution_count": 15
        }
      ],
      "source": [
        "X_train.shape, X_test.shape"
      ]
    },
    {
      "cell_type": "code",
      "execution_count": 16,
      "metadata": {
        "colab": {
          "base_uri": "https://localhost:8080/"
        },
        "id": "i1LSBX6AyPR0",
        "outputId": "12c227ff-7087-45e4-fe14-06074942de55"
      },
      "outputs": [
        {
          "output_type": "stream",
          "name": "stdout",
          "text": [
            "Downloading data from https://storage.googleapis.com/tensorflow/keras-applications/resnet/resnet50_weights_tf_dim_ordering_tf_kernels_notop.h5\n",
            "94765736/94765736 [==============================] - 0s 0us/step\n"
          ]
        }
      ],
      "source": [
        "r50 = tf.keras.applications.ResNet50(weights='imagenet', include_top=False, input_shape=(image_size, image_size, 3))"
      ]
    },
    {
      "cell_type": "code",
      "execution_count": 17,
      "metadata": {
        "colab": {
          "base_uri": "https://localhost:8080/"
        },
        "id": "nz_ltWx9yPR0",
        "outputId": "d54c9941-af49-4dce-e12a-4a9a0c2b81d1"
      },
      "outputs": [
        {
          "output_type": "stream",
          "name": "stdout",
          "text": [
            "117/117 [==============================] - 293s 2s/step\n"
          ]
        }
      ],
      "source": [
        "X_train_preds = r50.predict(X_train)"
      ]
    },
    {
      "cell_type": "code",
      "execution_count": 18,
      "metadata": {
        "colab": {
          "base_uri": "https://localhost:8080/"
        },
        "id": "5vo8UcmSEc1I",
        "outputId": "2d692318-f4ec-4b78-c7a3-b4a88525dc01"
      },
      "outputs": [
        {
          "output_type": "stream",
          "name": "stdout",
          "text": [
            "30/30 [==============================] - 70s 2s/step\n"
          ]
        }
      ],
      "source": [
        "X_test_preds = r50.predict(X_test)"
      ]
    },
    {
      "cell_type": "code",
      "execution_count": 19,
      "metadata": {
        "id": "rJpZ9R3wyPR0",
        "colab": {
          "base_uri": "https://localhost:8080/"
        },
        "outputId": "ec0c89b6-b3fb-4583-eb0f-50b51cb1c4d6"
      },
      "outputs": [
        {
          "output_type": "execute_result",
          "data": {
            "text/plain": [
              "((3739, 5, 5, 2048), (935, 5, 5, 2048))"
            ]
          },
          "metadata": {},
          "execution_count": 19
        }
      ],
      "source": [
        "X_train_preds.shape, X_test_preds.shape"
      ]
    },
    {
      "cell_type": "code",
      "execution_count": 20,
      "metadata": {
        "id": "0Y-hCcF6yPR0"
      },
      "outputs": [],
      "source": [
        "X_train_features = np.zeros((3739, 1, 51200))\n",
        "for i in range(3739): #5875\n",
        "    X_train_features[i] = X_train_preds[i].reshape((1, 51200))\n",
        "                            #653\n",
        "X_test_features = np.zeros((935, 1, 51200))\n",
        "for i in range(935):                                 #100352\n",
        "    X_test_features[i] = X_test_preds[i].reshape((1, 51200))"
      ]
    },
    {
      "cell_type": "code",
      "execution_count": 21,
      "metadata": {
        "id": "XN6m32OByPR0"
      },
      "outputs": [],
      "source": [
        "model = tf.keras.models.Sequential([\n",
        "  tf.keras.layers.LSTM(512, input_shape=(1, 51200), activation='relu', return_sequences=True),\n",
        "  tf.keras.layers.Dropout(0.2),\n",
        "  tf.keras.layers.LSTM(256, activation='relu', return_sequences=True),\n",
        "  tf.keras.layers.Dropout(0.2),\n",
        "  tf.keras.layers.LSTM(128, activation='relu', return_sequences=True),\n",
        "  tf.keras.layers.Dropout(0.2),\n",
        "  tf.keras.layers.LSTM(64, activation='relu'),\n",
        "  tf.keras.layers.Dropout(0.2),\n",
        "  tf.keras.layers.Dense(3, activation='softmax')\n",
        "])"
      ]
    },
    {
      "cell_type": "code",
      "execution_count": 22,
      "metadata": {
        "id": "aNDESFBPyPR1",
        "colab": {
          "base_uri": "https://localhost:8080/"
        },
        "outputId": "6541c4f0-e1d8-4145-f123-9f8a09ba08be"
      },
      "outputs": [
        {
          "output_type": "stream",
          "name": "stdout",
          "text": [
            "Model: \"sequential\"\n",
            "_________________________________________________________________\n",
            " Layer (type)                Output Shape              Param #   \n",
            "=================================================================\n",
            " lstm (LSTM)                 (None, 1, 512)            105908224 \n",
            "                                                                 \n",
            " dropout (Dropout)           (None, 1, 512)            0         \n",
            "                                                                 \n",
            " lstm_1 (LSTM)               (None, 1, 256)            787456    \n",
            "                                                                 \n",
            " dropout_1 (Dropout)         (None, 1, 256)            0         \n",
            "                                                                 \n",
            " lstm_2 (LSTM)               (None, 1, 128)            197120    \n",
            "                                                                 \n",
            " dropout_2 (Dropout)         (None, 1, 128)            0         \n",
            "                                                                 \n",
            " lstm_3 (LSTM)               (None, 64)                49408     \n",
            "                                                                 \n",
            " dropout_3 (Dropout)         (None, 64)                0         \n",
            "                                                                 \n",
            " dense (Dense)               (None, 3)                 195       \n",
            "                                                                 \n",
            "=================================================================\n",
            "Total params: 106942403 (407.95 MB)\n",
            "Trainable params: 106942403 (407.95 MB)\n",
            "Non-trainable params: 0 (0.00 Byte)\n",
            "_________________________________________________________________\n"
          ]
        }
      ],
      "source": [
        "model.summary()"
      ]
    },
    {
      "cell_type": "code",
      "execution_count": 23,
      "metadata": {
        "id": "XLGJHfo3yPR1"
      },
      "outputs": [],
      "source": [
        "model.compile(loss='categorical_crossentropy',optimizer = 'Adam', metrics= ['accuracy'])"
      ]
    },
    {
      "cell_type": "code",
      "execution_count": 24,
      "metadata": {
        "id": "qlWm0VY7yPR1"
      },
      "outputs": [],
      "source": [
        "tensorboard = TensorBoard(log_dir = 'logs')\n",
        "checkpoint = ModelCheckpoint(\"bestomodelo.h5\",monitor=\"val_accuracy\",save_best_only=True,mode=\"auto\",verbose=1)\n",
        "reduce_lr = ReduceLROnPlateau(monitor = 'val_accuracy', factor = 0.3, patience = 2, min_delta = 0.001, mode='auto',verbose=1)"
      ]
    },
    {
      "cell_type": "code",
      "execution_count": 25,
      "metadata": {
        "id": "ax_VPJ7ryPR1",
        "colab": {
          "base_uri": "https://localhost:8080/"
        },
        "outputId": "48af9e5b-d44a-40ac-f248-6920656b209f"
      },
      "outputs": [
        {
          "output_type": "stream",
          "name": "stdout",
          "text": [
            "Epoch 1/12\n",
            "106/106 [==============================] - ETA: 0s - loss: 0.8983 - accuracy: 0.6021\n",
            "Epoch 1: val_accuracy improved from -inf to 0.86364, saving model to bestomodelo.h5\n"
          ]
        },
        {
          "output_type": "stream",
          "name": "stderr",
          "text": [
            "/usr/local/lib/python3.10/dist-packages/keras/src/engine/training.py:3103: UserWarning: You are saving your model as an HDF5 file via `model.save()`. This file format is considered legacy. We recommend using instead the native Keras format, e.g. `model.save('my_model.keras')`.\n",
            "  saving_api.save_model(\n"
          ]
        },
        {
          "output_type": "stream",
          "name": "stdout",
          "text": [
            "\b\b\b\b\b\b\b\b\b\b\b\b\b\b\b\b\b\b\b\b\b\b\b\b\b\b\b\b\b\b\b\b\b\b\b\b\b\b\b\b\b\b\b\b\b\b\b\b\b\b\b\b\b\b\b\b\b\b\b\b\b\b\b\b\b\b\b\b\b\b\b\b\b\b\b\b\b\b\b\b\b\b\b\b\r106/106 [==============================] - 223s 2s/step - loss: 0.8983 - accuracy: 0.6021 - val_loss: 0.3998 - val_accuracy: 0.8636 - lr: 0.0010\n",
            "Epoch 2/12\n",
            "106/106 [==============================] - ETA: 0s - loss: 0.4349 - accuracy: 0.8547\n",
            "Epoch 2: val_accuracy improved from 0.86364 to 0.90642, saving model to bestomodelo.h5\n",
            "106/106 [==============================] - 227s 2s/step - loss: 0.4349 - accuracy: 0.8547 - val_loss: 0.3157 - val_accuracy: 0.9064 - lr: 0.0010\n",
            "Epoch 3/12\n",
            "106/106 [==============================] - ETA: 0s - loss: 0.2471 - accuracy: 0.9218\n",
            "Epoch 3: val_accuracy improved from 0.90642 to 0.92781, saving model to bestomodelo.h5\n",
            "106/106 [==============================] - 227s 2s/step - loss: 0.2471 - accuracy: 0.9218 - val_loss: 0.2401 - val_accuracy: 0.9278 - lr: 0.0010\n",
            "Epoch 4/12\n",
            "106/106 [==============================] - ETA: 0s - loss: 0.1548 - accuracy: 0.9516\n",
            "Epoch 4: val_accuracy improved from 0.92781 to 0.96524, saving model to bestomodelo.h5\n",
            "106/106 [==============================] - 227s 2s/step - loss: 0.1548 - accuracy: 0.9516 - val_loss: 0.1603 - val_accuracy: 0.9652 - lr: 0.0010\n",
            "Epoch 5/12\n",
            "106/106 [==============================] - ETA: 0s - loss: 0.1154 - accuracy: 0.9676\n",
            "Epoch 5: val_accuracy improved from 0.96524 to 0.96791, saving model to bestomodelo.h5\n",
            "106/106 [==============================] - 255s 2s/step - loss: 0.1154 - accuracy: 0.9676 - val_loss: 0.1138 - val_accuracy: 0.9679 - lr: 0.0010\n",
            "Epoch 6/12\n",
            "106/106 [==============================] - ETA: 0s - loss: 0.0951 - accuracy: 0.9715\n",
            "Epoch 6: val_accuracy improved from 0.96791 to 0.97594, saving model to bestomodelo.h5\n",
            "106/106 [==============================] - 266s 3s/step - loss: 0.0951 - accuracy: 0.9715 - val_loss: 0.1071 - val_accuracy: 0.9759 - lr: 0.0010\n",
            "Epoch 7/12\n",
            "106/106 [==============================] - ETA: 0s - loss: 0.0704 - accuracy: 0.9804\n",
            "Epoch 7: val_accuracy did not improve from 0.97594\n",
            "106/106 [==============================] - 216s 2s/step - loss: 0.0704 - accuracy: 0.9804 - val_loss: 0.1139 - val_accuracy: 0.9652 - lr: 0.0010\n",
            "Epoch 8/12\n",
            "106/106 [==============================] - ETA: 0s - loss: 0.0707 - accuracy: 0.9792\n",
            "Epoch 8: val_accuracy did not improve from 0.97594\n",
            "\n",
            "Epoch 8: ReduceLROnPlateau reducing learning rate to 0.0003000000142492354.\n",
            "106/106 [==============================] - 214s 2s/step - loss: 0.0707 - accuracy: 0.9792 - val_loss: 0.1477 - val_accuracy: 0.9733 - lr: 0.0010\n",
            "Epoch 9/12\n",
            "106/106 [==============================] - ETA: 0s - loss: 0.0447 - accuracy: 0.9863\n",
            "Epoch 9: val_accuracy improved from 0.97594 to 0.97861, saving model to bestomodelo.h5\n",
            "106/106 [==============================] - 274s 3s/step - loss: 0.0447 - accuracy: 0.9863 - val_loss: 0.0944 - val_accuracy: 0.9786 - lr: 3.0000e-04\n",
            "Epoch 10/12\n",
            "106/106 [==============================] - ETA: 0s - loss: 0.0421 - accuracy: 0.9881\n",
            "Epoch 10: val_accuracy improved from 0.97861 to 0.98396, saving model to bestomodelo.h5\n",
            "106/106 [==============================] - 268s 3s/step - loss: 0.0421 - accuracy: 0.9881 - val_loss: 0.0782 - val_accuracy: 0.9840 - lr: 3.0000e-04\n",
            "Epoch 11/12\n",
            "106/106 [==============================] - ETA: 0s - loss: 0.0249 - accuracy: 0.9941\n",
            "Epoch 11: val_accuracy improved from 0.98396 to 0.99198, saving model to bestomodelo.h5\n",
            "106/106 [==============================] - 268s 3s/step - loss: 0.0249 - accuracy: 0.9941 - val_loss: 0.0872 - val_accuracy: 0.9920 - lr: 3.0000e-04\n",
            "Epoch 12/12\n",
            "106/106 [==============================] - ETA: 0s - loss: 0.0135 - accuracy: 0.9964\n",
            "Epoch 12: val_accuracy did not improve from 0.99198\n",
            "106/106 [==============================] - 219s 2s/step - loss: 0.0135 - accuracy: 0.9964 - val_loss: 0.1094 - val_accuracy: 0.9866 - lr: 3.0000e-04\n"
          ]
        }
      ],
      "source": [
        "history = model.fit(X_train_features, y_train, validation_split=0.1, epochs=12, verbose=1, batch_size=32, callbacks=[tensorboard,checkpoint,reduce_lr])"
      ]
    },
    {
      "cell_type": "code",
      "execution_count": 27,
      "metadata": {
        "id": "Sd9UBpQGyPR1",
        "colab": {
          "base_uri": "https://localhost:8080/",
          "height": 537
        },
        "outputId": "c98c9072-fd0b-4a5a-e07f-b03377ac77cd"
      },
      "outputs": [
        {
          "output_type": "display_data",
          "data": {
            "text/plain": [
              "<Figure size 1400x700 with 2 Axes>"
            ],
            "image/png": "[encoded data removed]"
          },
          "metadata": {}
        }
      ],
      "source": [
        "filterwarnings('ignore')\n",
        "\n",
        "epochs = [i for i in range(12)]\n",
        "fig, ax = plt.subplots(1,2,figsize=(14,7))\n",
        "train_acc = history.history['accuracy']\n",
        "train_loss = history.history['loss']\n",
        "val_acc = history.history['val_accuracy']\n",
        "val_loss = history.history['val_loss']\n",
        "\n",
        "fig.text(s='Epochs vs. Training and Validation Accuracy/Loss',size=18,fontweight='bold',\n",
        "             fontname='monospace',color=colors_dark[1],y=1,x=0.28,alpha=0.8)\n",
        "\n",
        "sns.despine()\n",
        "ax[0].plot(epochs, train_acc, marker='o',markerfacecolor=colors_green[2],color=colors_green[3],\n",
        "           label = 'Training Accuracy')\n",
        "ax[0].plot(epochs, val_acc, marker='o',markerfacecolor=colors_red[2],color=colors_red[3],\n",
        "           label = 'Validation Accuracy')\n",
        "ax[0].legend(frameon=False)\n",
        "ax[0].set_xlabel('Epochs')\n",
        "ax[0].set_ylabel('Accuracy')\n",
        "\n",
        "sns.despine()\n",
        "ax[1].plot(epochs, train_loss, marker='o',markerfacecolor=colors_green[2],color=colors_green[3],\n",
        "           label ='Training Loss')\n",
        "ax[1].plot(epochs, val_loss, marker='o',markerfacecolor=colors_red[2],color=colors_red[3],\n",
        "           label = 'Validation Loss')\n",
        "ax[1].legend(frameon=False)\n",
        "ax[1].set_xlabel('Epochs')\n",
        "ax[1].set_ylabel('Training & Validation Loss')\n",
        "\n",
        "fig.show()"
      ]
    },
    {
      "cell_type": "code",
      "execution_count": 28,
      "metadata": {
        "id": "qkJnbAM5yPR1",
        "colab": {
          "base_uri": "https://localhost:8080/"
        },
        "outputId": "85f99611-ca17-4fdd-e83e-dd7f28861dd0"
      },
      "outputs": [
        {
          "output_type": "stream",
          "name": "stdout",
          "text": [
            "30/30 [==============================] - 8s 259ms/step - loss: 0.1442 - accuracy: 0.9882\n"
          ]
        },
        {
          "output_type": "execute_result",
          "data": {
            "text/plain": [
              "[0.14421194791793823, 0.9882352948188782]"
            ]
          },
          "metadata": {},
          "execution_count": 28
        }
      ],
      "source": [
        "model.evaluate(X_test_features, y_test)"
      ]
    },
    {
      "cell_type": "code",
      "execution_count": 29,
      "metadata": {
        "id": "Mzz-iotPyPR1",
        "colab": {
          "base_uri": "https://localhost:8080/"
        },
        "outputId": "67ec4e0e-1cdb-4f51-d8c7-38526b3d3ce5"
      },
      "outputs": [
        {
          "output_type": "stream",
          "name": "stdout",
          "text": [
            "30/30 [==============================] - 11s 350ms/step\n"
          ]
        }
      ],
      "source": [
        "pred = model.predict(X_test_features)\n",
        "pred = np.argmax(pred,axis=1)\n",
        "y_test_new = np.argmax(y_test,axis=1)"
      ]
    },
    {
      "cell_type": "code",
      "execution_count": 30,
      "metadata": {
        "id": "ZW48o-SxyPR1",
        "colab": {
          "base_uri": "https://localhost:8080/"
        },
        "outputId": "8228e0f5-ea71-4938-9b56-e958ec4e2b5e"
      },
      "outputs": [
        {
          "output_type": "stream",
          "name": "stdout",
          "text": [
            "              precision    recall  f1-score   support\n",
            "\n",
            "           0       0.99      0.99      0.99       352\n",
            "           1       0.97      1.00      0.98       224\n",
            "           2       1.00      0.98      0.99       359\n",
            "\n",
            "    accuracy                           0.99       935\n",
            "   macro avg       0.99      0.99      0.99       935\n",
            "weighted avg       0.99      0.99      0.99       935\n",
            "\n"
          ]
        }
      ],
      "source": [
        "print(classification_report(y_test_new,pred))"
      ]
    },
    {
      "cell_type": "code",
      "execution_count": 31,
      "metadata": {
        "id": "XRgK0ZwCyPR1",
        "colab": {
          "base_uri": "https://localhost:8080/",
          "height": 542
        },
        "outputId": "b9b19704-855a-48e8-d761-5eabbd721e53"
      },
      "outputs": [
        {
          "output_type": "display_data",
          "data": {
            "text/plain": [
              "<Figure size 1400x700 with 2 Axes>"
            ],
            "image/png": "[encoded data removed]"
          },
          "metadata": {}
        }
      ],
      "source": [
        "fig,ax=plt.subplots(1,1,figsize=(14,7))\n",
        "sns.heatmap(confusion_matrix(y_test_new,pred),ax=ax,xticklabels=labels,yticklabels=labels,annot=True, cmap=colors_green[::-1],alpha=0.7,linewidths=2,linecolor=colors_dark[3])\n",
        "fig.text(s='Heatmap of the Confusion Matrix',size=18,fontweight='bold',fontname='monospace',color=colors_dark[1],y=0.92,x=0.28,alpha=0.8)\n",
        "plt.show()"
      ]
    }
  ],
  "metadata": {
    "accelerator": "GPU",
    "colab": {
      "provenance": [],
      "include_colab_link": true
    },
    "kaggle": {
      "accelerator": "none",
      "dataSources": [
        {
          "datasetId": 672377,
          "sourceId": 1183165,
          "sourceType": "datasetVersion"
        }
      ],
      "dockerImageVersionId": 30558,
      "isGpuEnabled": false,
      "isInternetEnabled": false,
      "language": "python",
      "sourceType": "notebook"
    },
    "kernelspec": {
      "display_name": "Python 3",
      "name": "python3"
    },
    "language_info": {
      "codemirror_mode": {
        "name": "ipython",
        "version": 3
      },
      "file_extension": ".py",
      "mimetype": "text/x-python",
      "name": "python",
      "nbconvert_exporter": "python",
      "pygments_lexer": "ipython3",
      "version": "3.6.4"
    }
  },
  "nbformat": 4,
  "nbformat_minor": 0
}